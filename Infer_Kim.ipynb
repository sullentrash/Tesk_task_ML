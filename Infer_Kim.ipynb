{
  "nbformat": 4,
  "nbformat_minor": 0,
  "metadata": {
    "colab": {
      "name": "Infer_Kim.ipynb",
      "provenance": [],
      "collapsed_sections": []
    },
    "kernelspec": {
      "name": "python3",
      "display_name": "Python 3"
    },
    "language_info": {
      "name": "python"
    },
    "accelerator": "GPU"
  },
  "cells": [
    {
      "cell_type": "code",
      "metadata": {
        "colab": {
          "base_uri": "https://localhost:8080/"
        },
        "id": "O-ah8YDSgUJB",
        "outputId": "c849acf9-9dd8-4679-e261-8ca1c2550e8b"
      },
      "source": [
        "!pip install timm\n",
        "import os\n",
        "import torch\n",
        "import zipfile\n",
        "import pandas as pd\n",
        "import numpy as np\n",
        "import timm as tm\n",
        "from PIL import Image\n",
        "import torchvision.models as models\n",
        "import matplotlib.pyplot as plt\n",
        "import torchvision.transforms as transforms\n",
        "import torch.nn.functional as F\n",
        "import torch.nn as nn\n",
        "from PIL import Image\n",
        "from google.colab.patches import cv2_imshow\n",
        "%matplotlib inline"
      ],
      "execution_count": 1,
      "outputs": [
        {
          "output_type": "stream",
          "text": [
            "Collecting timm\n",
            "\u001b[?25l  Downloading https://files.pythonhosted.org/packages/9e/89/d94f59780b5dd973154bf506d8ce598f6bfe7cc44dd445d644d6d3be8c39/timm-0.4.5-py3-none-any.whl (287kB)\n",
            "\r\u001b[K     |█▏                              | 10kB 13.4MB/s eta 0:00:01\r\u001b[K     |██▎                             | 20kB 18.2MB/s eta 0:00:01\r\u001b[K     |███▍                            | 30kB 18.4MB/s eta 0:00:01\r\u001b[K     |████▋                           | 40kB 16.0MB/s eta 0:00:01\r\u001b[K     |█████▊                          | 51kB 12.4MB/s eta 0:00:01\r\u001b[K     |██████▉                         | 61kB 14.1MB/s eta 0:00:01\r\u001b[K     |████████                        | 71kB 10.0MB/s eta 0:00:01\r\u001b[K     |█████████▏                      | 81kB 10.1MB/s eta 0:00:01\r\u001b[K     |██████████▎                     | 92kB 10.1MB/s eta 0:00:01\r\u001b[K     |███████████▍                    | 102kB 10.1MB/s eta 0:00:01\r\u001b[K     |████████████▌                   | 112kB 10.1MB/s eta 0:00:01\r\u001b[K     |█████████████▊                  | 122kB 10.1MB/s eta 0:00:01\r\u001b[K     |██████████████▉                 | 133kB 10.1MB/s eta 0:00:01\r\u001b[K     |████████████████                | 143kB 10.1MB/s eta 0:00:01\r\u001b[K     |█████████████████               | 153kB 10.1MB/s eta 0:00:01\r\u001b[K     |██████████████████▎             | 163kB 10.1MB/s eta 0:00:01\r\u001b[K     |███████████████████▍            | 174kB 10.1MB/s eta 0:00:01\r\u001b[K     |████████████████████▌           | 184kB 10.1MB/s eta 0:00:01\r\u001b[K     |█████████████████████▋          | 194kB 10.1MB/s eta 0:00:01\r\u001b[K     |██████████████████████▉         | 204kB 10.1MB/s eta 0:00:01\r\u001b[K     |████████████████████████        | 215kB 10.1MB/s eta 0:00:01\r\u001b[K     |█████████████████████████       | 225kB 10.1MB/s eta 0:00:01\r\u001b[K     |██████████████████████████▏     | 235kB 10.1MB/s eta 0:00:01\r\u001b[K     |███████████████████████████▍    | 245kB 10.1MB/s eta 0:00:01\r\u001b[K     |████████████████████████████▌   | 256kB 10.1MB/s eta 0:00:01\r\u001b[K     |█████████████████████████████▋  | 266kB 10.1MB/s eta 0:00:01\r\u001b[K     |██████████████████████████████▉ | 276kB 10.1MB/s eta 0:00:01\r\u001b[K     |████████████████████████████████| 286kB 10.1MB/s eta 0:00:01\r\u001b[K     |████████████████████████████████| 296kB 10.1MB/s \n",
            "\u001b[?25hRequirement already satisfied: torch>=1.4 in /usr/local/lib/python3.7/dist-packages (from timm) (1.8.1+cu101)\n",
            "Requirement already satisfied: torchvision in /usr/local/lib/python3.7/dist-packages (from timm) (0.9.1+cu101)\n",
            "Requirement already satisfied: numpy in /usr/local/lib/python3.7/dist-packages (from torch>=1.4->timm) (1.19.5)\n",
            "Requirement already satisfied: typing-extensions in /usr/local/lib/python3.7/dist-packages (from torch>=1.4->timm) (3.7.4.3)\n",
            "Requirement already satisfied: pillow>=4.1.1 in /usr/local/lib/python3.7/dist-packages (from torchvision->timm) (7.1.2)\n",
            "Installing collected packages: timm\n",
            "Successfully installed timm-0.4.5\n"
          ],
          "name": "stdout"
        }
      ]
    },
    {
      "cell_type": "code",
      "metadata": {
        "id": "1LmwUiZhks5G"
      },
      "source": [
        "labels = {\n",
        "    0: 'badminton',\n",
        "    1: 'baseball',\n",
        "    2: 'basketball',\n",
        "    3: 'boxing',\n",
        "    4: 'chess',\n",
        "    5: 'cricket',\n",
        "    6: 'fencing',\n",
        "    7: 'football',\n",
        "    8: 'formula1',\n",
        "    9: 'gymnastics',\n",
        "    10: 'hockey',\n",
        "    11: 'ice_hockey',\n",
        "    12: 'kabaddi',\n",
        "    13: 'motogp',\n",
        "    14: 'shooting',\n",
        "    15: 'swimming',\n",
        "    16: 'table_tennis',\n",
        "    17: 'tennis',\n",
        "    18: 'volleyball',\n",
        "    19: 'weight_lifting',\n",
        "    20: 'wrestling',\n",
        "    21: 'wwe'\n",
        "}"
      ],
      "execution_count": 2,
      "outputs": []
    },
    {
      "cell_type": "code",
      "metadata": {
        "colab": {
          "base_uri": "https://localhost:8080/"
        },
        "id": "U0bZt5PShT77",
        "outputId": "1efc9357-92cc-43d7-9afa-c0d7d7c3ea1f"
      },
      "source": [
        "from google.colab import drive\n",
        "drive.mount('/content/drive')"
      ],
      "execution_count": 3,
      "outputs": [
        {
          "output_type": "stream",
          "text": [
            "Mounted at /content/drive\n"
          ],
          "name": "stdout"
        }
      ]
    },
    {
      "cell_type": "code",
      "metadata": {
        "id": "f_dnj8DVhnQs"
      },
      "source": [
        "with zipfile.ZipFile('/content/drive/MyDrive/test1.zip', 'r') as zip_ref:\n",
        "  zip_ref.extractall('/content')"
      ],
      "execution_count": 4,
      "outputs": []
    },
    {
      "cell_type": "code",
      "metadata": {
        "colab": {
          "base_uri": "https://localhost:8080/"
        },
        "id": "7RuSBE41jP2-",
        "outputId": "e0a3c42f-deae-4711-a2e1-411e58f627d8"
      },
      "source": [
        "def get_default_device():\n",
        "    if torch.cuda.is_available():\n",
        "        return torch.device('cuda')\n",
        "    else:\n",
        "        return torch.device('cpu')\n",
        "def to_device(data, device):\n",
        "    \"\"\"Move tensor(s) to chosen device\"\"\"\n",
        "    if isinstance(data, (list,tuple)):\n",
        "        return [to_device(x, device) for x in data]\n",
        "    return data.to(device, non_blocking=True)\n",
        "\n",
        "device = get_default_device()\n",
        "device"
      ],
      "execution_count": 5,
      "outputs": [
        {
          "output_type": "execute_result",
          "data": {
            "text/plain": [
              "device(type='cuda')"
            ]
          },
          "metadata": {
            "tags": []
          },
          "execution_count": 5
        }
      ]
    },
    {
      "cell_type": "markdown",
      "metadata": {
        "id": "suTKH-34gde_"
      },
      "source": [
        "path_to_model - Путь до модели(модель необходимо загрузить отдельно)\n",
        "\n",
        "path_to_images - Путь до папки с изображениями"
      ]
    },
    {
      "cell_type": "code",
      "metadata": {
        "id": "IfZmaIirnj4g"
      },
      "source": [
        "def infer(path_to_model, path_to_images): \n",
        "  model = tm.create_model('efficientnet_b3a', pretrained=False, num_classes=22)\n",
        "  model = to_device(model, device) \n",
        "  model_s = torch.load(path_to_model) \n",
        "  model.load_state_dict(model_s, strict=False) \n",
        "  model.eval()\n",
        "\n",
        "  pil2tensor = transforms.ToTensor()\n",
        "  images = []\n",
        "  predictions = []\n",
        "  index = []\n",
        "  i = 0\n",
        "  for filename in os.listdir(path_to_images):\n",
        "    img = Image.open(path_to_images + '/' + filename)\n",
        "    xb = img \n",
        "    xb =  xb.resize((224, 224))\n",
        "    xb = pil2tensor(xb)\n",
        "    xb = to_device(xb, device)\n",
        "    preds = model(xb.reshape(1, 3, 224, 224))\n",
        "    prediction = preds[0]\n",
        "    _, preds = torch.max(prediction, dim=0)\n",
        "    preds.cpu()\n",
        "    label = labels[preds.item()]\n",
        "    images.append(filename)\n",
        "    index.append( int(filename.split('.')[0]) )\n",
        "    predictions.append(label)\n",
        "  output = pd.DataFrame(data={\"index\":index,\"image\":images,\"label\":predictions})\n",
        "  sorted_df = output.sort_values(by=[\"index\"], ascending=True) \n",
        "  sorted_df = sorted_df.drop(columns=\"index\")\n",
        "  sorted_df.to_csv(path_or_buf=\"submission.csv\", index=False, quoting=3)\n",
        "\n",
        "from google.colab import files\n",
        "files.upload()\n",
        "\n",
        "files.download('efficientnet_b3a_86.pt')\n",
        "infer('/content/efficientnet_b3a_86.pt', '/content/test1')"
      ],
      "execution_count": null,
      "outputs": []
    }
  ]
}